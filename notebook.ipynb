{
 "cells": [
  {
   "cell_type": "code",
   "execution_count": null,
   "metadata": {},
   "outputs": [],
   "source": [
    "from api import API, Plotter"
   ]
  },
  {
   "cell_type": "code",
   "execution_count": null,
   "metadata": {},
   "outputs": [],
   "source": [
    "GRANDE_RIO = {\n",
    "    'Rio de Janeiro', 'São Gonçalo', 'Duque de Caxias', 'Nova Iguaçu', 'Niteroi', 'Belford Roxo', 'São João de Meriti',\n",
    "    'Petropolis', 'Mage', 'Itaborai', 'Mesquita', 'Nilópolis', 'Maricá', 'Itaguai', 'Japeri', 'Seropedica', 'Rio Bonito',\n",
    "    'Guapimirim', 'Cachoeiras de Macacu', 'Paracambi', 'Tanguá',\n",
    "}\n",
    "\n",
    "SUDESTE = {\"SP\", \"RJ\", \"MG\", \"ES\"}"
   ]
  },
  {
   "cell_type": "code",
   "execution_count": null,
   "metadata": {},
   "outputs": [],
   "source": [
    "res = API.get(date=all, state='RJ', city=GRANDE_RIO, cumulative=True, sync=False)"
   ]
  },
  {
   "cell_type": "code",
   "execution_count": null,
   "metadata": {},
   "outputs": [],
   "source": [
    "API.to_csv('Grande-Rio.csv', API.union(res, region='Grande Rio'))"
   ]
  },
  {
   "cell_type": "code",
   "execution_count": null,
   "metadata": {
    "scrolled": true
   },
   "outputs": [],
   "source": [
    "res = API.get(date=(\"2020-04-01\", \"2020-04-30\"), state=SUDESTE)"
   ]
  },
  {
   "cell_type": "code",
   "execution_count": null,
   "metadata": {},
   "outputs": [],
   "source": [
    "API.to_csv('Sudeste', API.union(res, region='Sudeste'))"
   ]
  },
  {
   "cell_type": "code",
   "execution_count": null,
   "metadata": {},
   "outputs": [],
   "source": [
    "plot = Plotter('Grande-Rio.csv')\n",
    "plot.diff_covid_resp(save='grande-rio', title='Grande Rio')"
   ]
  },
  {
   "cell_type": "code",
   "execution_count": null,
   "metadata": {},
   "outputs": [],
   "source": []
  }
 ],
 "metadata": {
  "kernelspec": {
   "display_name": "Python 3",
   "language": "python",
   "name": "python3"
  },
  "language_info": {
   "codemirror_mode": {
    "name": "ipython",
    "version": 3
   },
   "file_extension": ".py",
   "mimetype": "text/x-python",
   "name": "python",
   "nbconvert_exporter": "python",
   "pygments_lexer": "ipython3",
   "version": "3.7.3-final"
  }
 },
 "nbformat": 4,
 "nbformat_minor": 4
}