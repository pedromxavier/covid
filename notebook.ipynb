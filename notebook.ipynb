{
 "cells": [
  {
   "cell_type": "code",
   "execution_count": 1,
   "metadata": {},
   "outputs": [],
   "source": [
    "from api import API, Plotter"
   ]
  },
  {
   "cell_type": "code",
   "execution_count": 2,
   "metadata": {},
   "outputs": [],
   "source": [
    "GRANDE_RIO = {\n",
    "    'Rio de Janeiro', 'São Gonçalo', 'Duque de Caxias', 'Nova Iguaçu', 'Niteroi', 'Belford Roxo', 'São João de Meriti',\n",
    "    'Petropolis', 'Mage', 'Itaborai', 'Mesquita', 'Nilópolis', 'Maricá', 'Itaguai', 'Japeri', 'Seropedica', 'Rio Bonito',\n",
    "    'Guapimirim', 'Cachoeiras de Macacu', 'Paracambi', 'Tanguá',\n",
    "}\n",
    "\n",
    "SUDESTE = {\"SP\", \"RJ\", \"MG\", \"ES\"}"
   ]
  },
  {
   "cell_type": "code",
   "execution_count": null,
   "metadata": {},
   "outputs": [
    {
     "name": "stdout",
     "output_type": "stream",
     "text": [
      "Total de requisições: 2646\n",
      "Progresso: [>               ] 94/2646      \r"
     ]
    }
   ],
   "source": [
    "res = API.get(date=all, state='RJ', city=GRANDE_RIO, sync=False)"
   ]
  },
  {
   "cell_type": "code",
   "execution_count": null,
   "metadata": {},
   "outputs": [],
   "source": [
    "API.to_csv('Grande Rio', res)"
   ]
  },
  {
   "cell_type": "code",
   "execution_count": null,
   "metadata": {},
   "outputs": [],
   "source": [
    "res = API.get(date=(\"2020-04-01\", \"2020-04-30\"), state=SUDESTE)"
   ]
  },
  {
   "cell_type": "code",
   "execution_count": null,
   "metadata": {},
   "outputs": [],
   "source": [
    "API.to_csv('Sudeste', res)"
   ]
  },
  {
   "cell_type": "code",
   "execution_count": null,
   "metadata": {},
   "outputs": [],
   "source": [
    "plot = Plotter('Grande Rio')\n",
    "plot.diff_covid_resp(title='Grande Rio')"
   ]
  },
  {
   "cell_type": "code",
   "execution_count": null,
   "metadata": {},
   "outputs": [],
   "source": []
  }
 ],
 "metadata": {
  "kernelspec": {
   "display_name": "Python 3",
   "language": "python",
   "name": "python3"
  },
  "language_info": {
   "codemirror_mode": {
    "name": "ipython",
    "version": 3
   },
   "file_extension": ".py",
   "mimetype": "text/x-python",
   "name": "python",
   "nbconvert_exporter": "python",
   "pygments_lexer": "ipython3",
   "version": "3.7.3"
  }
 },
 "nbformat": 4,
 "nbformat_minor": 4
}
